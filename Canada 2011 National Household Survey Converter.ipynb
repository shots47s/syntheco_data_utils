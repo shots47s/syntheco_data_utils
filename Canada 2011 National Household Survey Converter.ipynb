{
 "cells": [
  {
   "cell_type": "markdown",
   "metadata": {},
   "source": [
    "Household Survey Converer\n",
    "\n",
    "Data was obtained at \n",
    "\n",
    "https://www12.statcan.gc.ca/nhs-enm/2011/dp-pd/prof/details/download-telecharger/comprehensive/comp-csv-tab-nhs-enm.cfm?Lang=E\n",
    "\n",
    "This code will convert that spreadsheet into useful data for Syntheco, and eventually into Neurohub as a standard bit of information."
   ]
  },
  {
   "cell_type": "code",
   "execution_count": 1,
   "metadata": {},
   "outputs": [],
   "source": [
    "import csv\n",
    "import os\n",
    "import random\n",
    "import math\n",
    "import pandas as pd\n",
    "import numpy as np\n",
    "import itertools"
   ]
  },
  {
   "cell_type": "markdown",
   "metadata": {},
   "source": [
    "Utility Functions\n",
    "\n",
    "random_round_int - converts a floating point number to an integer where a random up or down based on 50%\n",
    "fill_counts_uniform - takes an array of integers and a total and fills in the -1s with a uniform distribution"
   ]
  },
  {
   "cell_type": "code",
   "execution_count": 2,
   "metadata": {},
   "outputs": [],
   "source": [
    "def random_round_int(float_num):\n",
    "    rand_prob = random.random()\n",
    "    if rand_prob <= .50:\n",
    "        return int(math.floor(float_num))\n",
    "    else:\n",
    "        return int(math.ceil(float_num))"
   ]
  },
  {
   "cell_type": "code",
   "execution_count": 3,
   "metadata": {},
   "outputs": [],
   "source": [
    "def fill_counts_uniform(counts,total):\n",
    "    denom = 0\n",
    "    total_uni = total\n",
    "    counts_new = []\n",
    "    for x in counts:\n",
    "        if x == -1:\n",
    "            denom += 1\n",
    "        else:\n",
    "            total_uni = total_uni - x\n",
    "    \n",
    "    #print(denom)\n",
    "    #print(total_uni)\n",
    "    if denom == 0:\n",
    "        return counts\n",
    "    \n",
    "    uni_value = float(total_uni)/float(denom)\n",
    "    if uni_value < 0:\n",
    "        uni_value = 0\n",
    "    #print(uni_value)\n",
    "    \n",
    "    counts_new = []\n",
    "    for x in counts:\n",
    "        if x < 0:\n",
    "            counts_new.append(random_round_int(uni_value))\n",
    "        else:\n",
    "            counts_new.append(x)\n",
    "    \n",
    "    return counts_new"
   ]
  },
  {
   "cell_type": "markdown",
   "metadata": {},
   "source": [
    "Here are input variable definitions"
   ]
  },
  {
   "cell_type": "code",
   "execution_count": 4,
   "metadata": {},
   "outputs": [],
   "source": [
    "data_location = \"C:/Users/shawn/Programs/Syntheco_darcy/Data\"\n",
    "quebec_datatable = os.path.join(data_location,\"99-004-XWE2011001-401-QUE.csv\")\n",
    "output_marginal_table = os.path.join(data_location,\"HHInc_Marginal_QUE.csv\")\n",
    "output_marginal_key_file = os.path.join(data_location,\"HHInc_Marginal_QUE_key.csv\")"
   ]
  },
  {
   "cell_type": "markdown",
   "metadata": {},
   "source": [
    "Now begins the main section of the tool."
   ]
  },
  {
   "cell_type": "code",
   "execution_count": 5,
   "metadata": {},
   "outputs": [
    {
     "name": "stderr",
     "output_type": "stream",
     "text": [
      "C:\\Users\\shawn\\Anaconda3\\envs\\syntheco\\lib\\site-packages\\IPython\\core\\interactiveshell.py:3051: DtypeWarning: Columns (9) have mixed types. Specify dtype option on import or set low_memory=False.\n",
      "  interactivity=interactivity, compiler=compiler, result=result)\n"
     ]
    }
   ],
   "source": [
    "data = pd.read_csv(quebec_datatable, encoding='cp1252',dtype={'Geo_Code':str,'Flag Total':str})"
   ]
  },
  {
   "cell_type": "markdown",
   "metadata": {},
   "source": [
    "This now uses only pandas to do the filtering, TODO: add the filling in of values like before\n",
    "\n"
   ]
  },
  {
   "cell_type": "code",
   "execution_count": 6,
   "metadata": {},
   "outputs": [],
   "source": [
    "def gather_counts_from_topic_metric(data_, desired_topic_, desired_metric_,tract_mask_,n_):\n",
    "    is_topic = data_['Topic'] == desired_topic_\n",
    "    is_que = data_['Geo_Code'].str.startswith(str(tract_mask_))\n",
    "    df = data_[is_topic & is_que]\n",
    "    \n",
    "    idx = df.index.get_indexer_for(df[df.Characteristic==desired_metric_].index)\n",
    "    idx = np.asarray(list(itertools.chain.from_iterable([list(range(x,x+n_)) for x in idx])))\n",
    "    df = df.iloc[idx]\n",
    "    \n",
    "    # Convert the categories to an index paramter\n",
    "    cats = df[\"Characteristic\"].head(14).tolist()\n",
    "    for c in cats:\n",
    "        df = df.replace(c,cats.index(c))\n",
    "    return {\"Categories\":cats,\"Data\":df}"
   ]
  },
  {
   "cell_type": "code",
   "execution_count": 7,
   "metadata": {},
   "outputs": [
    {
     "ename": "NameError",
     "evalue": "name 'desired_metric' is not defined",
     "output_type": "error",
     "traceback": [
      "\u001b[1;31m---------------------------------------------------------------------------\u001b[0m",
      "\u001b[1;31mNameError\u001b[0m                                 Traceback (most recent call last)",
      "\u001b[1;32m<ipython-input-7-5962ce289ed4>\u001b[0m in \u001b[0;36m<module>\u001b[1;34m\u001b[0m\n\u001b[0;32m      2\u001b[0m                                      \u001b[1;34m\"Income of households in 2010\"\u001b[0m\u001b[1;33m,\u001b[0m\u001b[1;33m\u001b[0m\u001b[1;33m\u001b[0m\u001b[0m\n\u001b[0;32m      3\u001b[0m                                      \u001b[1;34m\"Household total income in 2010 of private households\"\u001b[0m\u001b[1;33m,\u001b[0m\u001b[1;33m\u001b[0m\u001b[1;33m\u001b[0m\u001b[0m\n\u001b[1;32m----> 4\u001b[1;33m                                      \"462\",14)\n\u001b[0m\u001b[0;32m      5\u001b[0m \u001b[1;33m\u001b[0m\u001b[0m\n\u001b[0;32m      6\u001b[0m \u001b[1;32mwith\u001b[0m \u001b[0mopen\u001b[0m\u001b[1;33m(\u001b[0m\u001b[1;34m\"HHInc2011_marginals.csv\"\u001b[0m\u001b[1;33m,\u001b[0m\u001b[1;34m\"w\"\u001b[0m\u001b[1;33m,\u001b[0m\u001b[0mnewline\u001b[0m\u001b[1;33m=\u001b[0m\u001b[1;34m''\u001b[0m\u001b[1;33m)\u001b[0m \u001b[1;32mas\u001b[0m \u001b[0mf\u001b[0m\u001b[1;33m:\u001b[0m\u001b[1;33m\u001b[0m\u001b[1;33m\u001b[0m\u001b[0m\n",
      "\u001b[1;32m<ipython-input-6-f9969d87209b>\u001b[0m in \u001b[0;36mgather_counts_from_topic_metric\u001b[1;34m(data_, desired_topic_, desired_metric_, tract_mask_, n_)\u001b[0m\n\u001b[0;32m      4\u001b[0m     \u001b[0mdf\u001b[0m \u001b[1;33m=\u001b[0m \u001b[0mdata_\u001b[0m\u001b[1;33m[\u001b[0m\u001b[0mis_topic\u001b[0m \u001b[1;33m&\u001b[0m \u001b[0mis_que\u001b[0m\u001b[1;33m]\u001b[0m\u001b[1;33m\u001b[0m\u001b[1;33m\u001b[0m\u001b[0m\n\u001b[0;32m      5\u001b[0m \u001b[1;33m\u001b[0m\u001b[0m\n\u001b[1;32m----> 6\u001b[1;33m     \u001b[0midx\u001b[0m \u001b[1;33m=\u001b[0m \u001b[0mdf\u001b[0m\u001b[1;33m.\u001b[0m\u001b[0mindex\u001b[0m\u001b[1;33m.\u001b[0m\u001b[0mget_indexer_for\u001b[0m\u001b[1;33m(\u001b[0m\u001b[0mdf\u001b[0m\u001b[1;33m[\u001b[0m\u001b[0mdf\u001b[0m\u001b[1;33m.\u001b[0m\u001b[0mCharacteristic\u001b[0m\u001b[1;33m==\u001b[0m\u001b[0mdesired_metric\u001b[0m\u001b[1;33m]\u001b[0m\u001b[1;33m.\u001b[0m\u001b[0mindex\u001b[0m\u001b[1;33m)\u001b[0m\u001b[1;33m\u001b[0m\u001b[1;33m\u001b[0m\u001b[0m\n\u001b[0m\u001b[0;32m      7\u001b[0m     \u001b[0midx\u001b[0m \u001b[1;33m=\u001b[0m \u001b[0mnp\u001b[0m\u001b[1;33m.\u001b[0m\u001b[0masarray\u001b[0m\u001b[1;33m(\u001b[0m\u001b[0mlist\u001b[0m\u001b[1;33m(\u001b[0m\u001b[0mitertools\u001b[0m\u001b[1;33m.\u001b[0m\u001b[0mchain\u001b[0m\u001b[1;33m.\u001b[0m\u001b[0mfrom_iterable\u001b[0m\u001b[1;33m(\u001b[0m\u001b[1;33m[\u001b[0m\u001b[0mlist\u001b[0m\u001b[1;33m(\u001b[0m\u001b[0mrange\u001b[0m\u001b[1;33m(\u001b[0m\u001b[0mx\u001b[0m\u001b[1;33m,\u001b[0m\u001b[0mx\u001b[0m\u001b[1;33m+\u001b[0m\u001b[0mn_\u001b[0m\u001b[1;33m)\u001b[0m\u001b[1;33m)\u001b[0m \u001b[1;32mfor\u001b[0m \u001b[0mx\u001b[0m \u001b[1;32min\u001b[0m \u001b[0midx\u001b[0m\u001b[1;33m]\u001b[0m\u001b[1;33m)\u001b[0m\u001b[1;33m)\u001b[0m\u001b[1;33m)\u001b[0m\u001b[1;33m\u001b[0m\u001b[1;33m\u001b[0m\u001b[0m\n\u001b[0;32m      8\u001b[0m     \u001b[0mdf\u001b[0m \u001b[1;33m=\u001b[0m \u001b[0mdf\u001b[0m\u001b[1;33m.\u001b[0m\u001b[0miloc\u001b[0m\u001b[1;33m[\u001b[0m\u001b[0midx\u001b[0m\u001b[1;33m]\u001b[0m\u001b[1;33m\u001b[0m\u001b[1;33m\u001b[0m\u001b[0m\n",
      "\u001b[1;31mNameError\u001b[0m: name 'desired_metric' is not defined"
     ]
    }
   ],
   "source": [
    "df_data = gather_counts_from_topic_metric(data,\n",
    "                                     \"Income of households in 2010\",\n",
    "                                     \"Household total income in 2010 of private households\",\n",
    "                                     \"462\",14)\n",
    "\n",
    "with open(\"HHInc2011_marginals.csv\",\"w\",newline='') as f:\n",
    "    df_data['Data'].pivot_table('Total',['Geo_Code'],'Characteristic').to_csv(f,quoting=csv.QUOTE_ALL)\n",
    "\n",
    "with open(\"HHInc2011_metadata.csv\",\"w\",newline='') as f:\n",
    "    csv_write = csv.writer(f)\n",
    "    csv_write.writerow([\"index\",\"value\"])\n",
    "    for x in df_data['Categories']:\n",
    "        csv_write.writerow([df_data['Categories'].index(x),x.strip()])"
   ]
  },
  {
   "cell_type": "code",
   "execution_count": null,
   "metadata": {},
   "outputs": [],
   "source": []
  }
 ],
 "metadata": {
  "kernelspec": {
   "display_name": "Python 3",
   "language": "python",
   "name": "python3"
  },
  "language_info": {
   "codemirror_mode": {
    "name": "ipython",
    "version": 3
   },
   "file_extension": ".py",
   "mimetype": "text/x-python",
   "name": "python",
   "nbconvert_exporter": "python",
   "pygments_lexer": "ipython3",
   "version": "3.7.5"
  }
 },
 "nbformat": 4,
 "nbformat_minor": 2
}
